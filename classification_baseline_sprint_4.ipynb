{
 "cells": [
  {
   "attachments": {},
   "cell_type": "markdown",
   "metadata": {},
   "source": [
    "# Base para Sprint 4\n",
    "\n",
    "\n",
    "- Mucho ojo a la calidad de los datos, el ingeniero de datos DEBE entregar una tabla maestra única, con datos correctos, en el tipo correcto y que representen el negocio."
   ]
  },
  {
   "cell_type": "code",
   "execution_count": null,
   "metadata": {},
   "outputs": [],
   "source": [
    "# !pip install -r requirements.tx"
   ]
  },
  {
   "cell_type": "code",
   "execution_count": 1,
   "metadata": {},
   "outputs": [],
   "source": [
    "import pandas as pd\n",
    "import numpy as np\n",
    "import matplotlib.pyplot as plt\n",
    "import seaborn as sns\n",
    "\n",
    "import warnings\n",
    "warnings.filterwarnings(\"ignore\")\n",
    "\n",
    "import ml_functions"
   ]
  },
  {
   "attachments": {},
   "cell_type": "markdown",
   "metadata": {},
   "source": [
    "# Pipeline"
   ]
  },
  {
   "attachments": {},
   "cell_type": "markdown",
   "metadata": {},
   "source": [
    "## Sprint 4"
   ]
  },
  {
   "cell_type": "code",
   "execution_count": null,
   "metadata": {},
   "outputs": [],
   "source": [
    "ml_functions.create_lambda_function('pipeline_name')"
   ]
  },
  {
   "cell_type": "code",
   "execution_count": null,
   "metadata": {},
   "outputs": [],
   "source": [
    "ml_functions.create_batch_transform_endpoint('pipeline_name', 's3://sagemaker-us-east-1-123456789012/sagemaker/DEMO-xgboost-churn/data/test/test.csv', 's3://sagemaker-us-east-1-123456789012/sagemaker/DEMO-xgboost-churn/data/test/test.csv.out')"
   ]
  },
  {
   "attachments": {},
   "cell_type": "markdown",
   "metadata": {},
   "source": [
    "### Versionado en CodeCommit\n",
    "\n",
    "- git status\n",
    "- git stash\n",
    "- git pull\n",
    "- git stash pop\n",
    "- git add .\n",
    "- git commit -m \"Feat (sprint_1): add classification baseline\"\n",
    "- git push\n",
    "- git tag -a v0.1.0 -m \"Feat (sprint_1): add classification baseline\"\n",
    "- git push origin v0.1.0\n",
    "- git stash pop"
   ]
  },
  {
   "attachments": {},
   "cell_type": "markdown",
   "metadata": {},
   "source": [
    "### Presentación al stakeholder técnico"
   ]
  },
  {
   "attachments": {},
   "cell_type": "markdown",
   "metadata": {},
   "source": [
    "Se revisarán los temas:\n",
    "- Modelo funcionando en todos los items del sprint 1\n",
    "- Documentación completa y clara\n",
    "- Código limpio y bien comentado\n",
    "- Buenas prácticas de programación\n",
    "- Lógica de las variables más importantes\n",
    "- Versionado en CodeCommit\n",
    "- Buenas prácticas de Git\n",
    "- Buenas prácticas de AWS(Instancias, roles, etc)\n",
    "- Métricas del modelo\n",
    "- Calidad de los datos\n",
    "- EDA\n",
    "- Análisis de outliers\n",
    "- Análisis de missing values\n",
    "- Análisis de variables categóricas\n",
    "- Análisis de variables numéricas\n",
    "- Regularización\n",
    "- Feature engineering\n",
    "- Feature selection\n",
    "- Entendimiento del problema\n",
    "- Entendimiento de los datos\n",
    "- Nombramiento correcto de variables\n",
    "- Ventana de tiempo correcta\n",
    "- Correcta creación de variable target\n",
    "- Correcta creación de variables explicativas\n",
    "- Explicación de las variables más importantes\n",
    "- Explicación de las métricas del modelo\n",
    "- Explicación de las métodologías seleccionadas\n",
    "- Explicación de las decisiones tomadas\n",
    "- Explicación de las nuevas varibles a incorporar\n",
    "- Overfitting\n",
    "- Pipeline de MLops"
   ]
  },
  {
   "attachments": {},
   "cell_type": "markdown",
   "metadata": {},
   "source": [
    "### Escritura de la documentación"
   ]
  },
  {
   "attachments": {},
   "cell_type": "markdown",
   "metadata": {},
   "source": [
    "- Documentación del modelo sobre la estructura del archivo 'README.md'"
   ]
  }
 ],
 "metadata": {
  "kernelspec": {
   "display_name": "Python 3",
   "language": "python",
   "name": "python3"
  },
  "language_info": {
   "codemirror_mode": {
    "name": "ipython",
    "version": 3
   },
   "file_extension": ".py",
   "mimetype": "text/x-python",
   "name": "python",
   "nbconvert_exporter": "python",
   "pygments_lexer": "ipython3",
   "version": "3.9.2"
  },
  "vscode": {
   "interpreter": {
    "hash": "916dbcbb3f70747c44a77c7bcd40155683ae19c65e1c03b4aa3499c5328201f1"
   }
  }
 },
 "nbformat": 4,
 "nbformat_minor": 4
}
