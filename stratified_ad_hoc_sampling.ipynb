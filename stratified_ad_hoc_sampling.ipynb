{
 "cells": [
  {
   "cell_type": "code",
   "execution_count": null,
   "metadata": {},
   "outputs": [],
   "source": [
    "import pandas as pd\n",
    "import numpy as np\n",
    "\n",
    "from sklearn.model_selection import train_test_split\n",
    "\n",
    "def stratified_ad_hoc(df : pd.DataFrame, label_name : str, stratified_variables : np.ndarray, size_percentage : float = 0.3) -> pd.DataFrame:\n",
    "    \"\"\"\n",
    "    Description: stratified_ad_hoc functions generate a stratified sample of the dataframe.\n",
    "    Input:\n",
    "        - df : pd.DataFrame \n",
    "            Dataframe to be stratified.\n",
    "        - label_name : str\n",
    "            Name of the label column.\n",
    "        - stratified_variables : np.ndarray\n",
    "            Array of the variables to be stratified.\n",
    "        - size_percentage : float\n",
    "            Percentage of the dataframe to be returned.\n",
    "    Output:\n",
    "        - df_stratified : pd.DataFrame\n",
    "            Stratified sample of the dataframe.\n",
    "    \"\"\"\n",
    "\n",
    "    df_stratified, df_test = train_test_split(df, test_size = (1-size_percentage), stratify = df[stratified_variables])\n",
    "    \n",
    "    return df_stratified\n",
    "\n",
    "\n",
    "\n",
    "# df_stratified = stratified_ad_hoc(df, 'label', ['categorical','categorical_2'], 0.3)\n",
    "\n"
   ]
  }
 ],
 "metadata": {
  "language_info": {
   "name": "python"
  },
  "orig_nbformat": 4
 },
 "nbformat": 4,
 "nbformat_minor": 2
}
