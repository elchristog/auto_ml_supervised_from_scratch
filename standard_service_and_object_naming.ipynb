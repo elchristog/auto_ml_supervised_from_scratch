{
 "cells": [
  {
   "cell_type": "markdown",
   "metadata": {},
   "source": [
    "# Standard Service And Object Naming"
   ]
  },
  {
   "cell_type": "markdown",
   "metadata": {},
   "source": [
    "## S3\n",
    "\n",
    "Project folder:\n",
    "* team-project\n",
    "\n",
    "    * Folders raw:\n",
    "        * team-project-raw\n",
    "            * table-name-raw\n",
    "\n",
    "    * Folders etl:\n",
    "        * team-project-etl\n",
    "            * table-name-etl\n",
    "            \n",
    "Parallel folder:\n",
    "* data-name-raw\n",
    "* data-name-etl\n",
    "\n",
    "Tags:\n",
    "* squad: example-squad (lowercase)\n",
    "* project: example-project (lowercase)\n"
   ]
  },
  {
   "cell_type": "markdown",
   "metadata": {},
   "source": [
    "## Glue Crawlers\n",
    "* Crawler for raw data:\n",
    "    * Name: squad-project-data-raw\n",
    "    * Prefix: squad_project_data_raw_\n",
    "* Crawler for etl data:\n",
    "    * Name: squad-project-data-etl\n",
    "    * Prefix: squad_project_data_etl_\n",
    "    \n",
    "Tags:\n",
    "* squad: example-squad (lowercase)\n",
    "* project: example-project (lowercase)\n"
   ]
  },
  {
   "cell_type": "markdown",
   "metadata": {},
   "source": [
    "## Glue Jobs\n",
    "Job:\n",
    "* project-data\n",
    "\n",
    "Nodes:\n",
    "* Node name: descrpition example\n",
    "\n",
    "Tags:\n",
    "* squad: example-squad (lowercase)\n",
    "* project: example-project (lowercase)\n",
    "\n"
   ]
  },
  {
   "cell_type": "markdown",
   "metadata": {},
   "source": [
    "## Athena\n",
    "\n",
    "Sub queries:\n",
    "* sub_query_name\n",
    "\n",
    "New variables:\n",
    "* new_variable\n",
    "\n",
    "Tags:\n",
    "* squad: example-squad (lowercase)\n",
    "* project: example-project (lowercase)\n"
   ]
  },
  {
   "cell_type": "markdown",
   "metadata": {},
   "source": [
    "## SageMaker"
   ]
  },
  {
   "cell_type": "markdown",
   "metadata": {},
   "source": [
    "Docstrings:\n",
    "* Description:\n",
    "* Input:\n",
    "    - df:\n",
    "    - var: \n",
    "* Output:\n",
    "    - df:\n",
    "    - var: \n",
    "\n",
    "Functions:\n",
    "* function_name()\n",
    "\n",
    "Objects:\n",
    "* var_name =\n",
    "\n",
    "Projects:\n",
    "* squad-project\n",
    "\n",
    "Pipelines:\n",
    "* pipeline-name\n"
   ]
  }
 ],
 "metadata": {
  "instance_type": "ml.t3.medium",
  "kernelspec": {
   "display_name": "Python 3 (Data Science)",
   "language": "python",
   "name": "python3__SAGEMAKER_INTERNAL__arn:aws:sagemaker:us-east-1:081325390199:image/datascience-1.0"
  },
  "language_info": {
   "codemirror_mode": {
    "name": "ipython",
    "version": 3
   },
   "file_extension": ".py",
   "mimetype": "text/x-python",
   "name": "python",
   "nbconvert_exporter": "python",
   "pygments_lexer": "ipython3",
   "version": "3.7.10"
  }
 },
 "nbformat": 4,
 "nbformat_minor": 4
}
